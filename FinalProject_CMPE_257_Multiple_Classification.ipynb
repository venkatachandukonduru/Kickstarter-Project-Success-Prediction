{
  "cells": [
    {
      "cell_type": "markdown",
      "source": [
        "# **Multi-Class Classification of kickstarter project success prediction**\n",
        "\n",
        "**Team:**\n",
        "\n",
        "Alavala Satyanadh Reddy - 016037957\n",
        "\n",
        "Venkata Chandu Konduru  - 016726775\n"
      ],
      "metadata": {
        "id": "GaJVksDf5Kpi"
      },
      "id": "GaJVksDf5Kpi"
    },
    {
      "cell_type": "code",
      "execution_count": 29,
      "id": "meaningful-decrease",
      "metadata": {
        "_cell_guid": "b1076dfc-b9ad-4769-8c92-a6c4dae69d19",
        "_uuid": "8f2839f25d086af736a60e9eeb907d3b93b6e0e5",
        "execution": {
          "iopub.execute_input": "2021-05-15T19:05:04.352095Z",
          "iopub.status.busy": "2021-05-15T19:05:04.351327Z",
          "iopub.status.idle": "2021-05-15T19:05:11.216464Z",
          "shell.execute_reply": "2021-05-15T19:05:11.215779Z"
        },
        "id": "meaningful-decrease",
        "papermill": {
          "duration": 6.915265,
          "end_time": "2021-05-15T19:05:11.216641",
          "exception": false,
          "start_time": "2021-05-15T19:05:04.301376",
          "status": "completed"
        },
        "tags": []
      },
      "outputs": [],
      "source": [
        "import pandas as pd\n",
        "import numpy as np\n",
        "import matplotlib.pyplot as plt\n",
        "import seaborn as sns\n",
        "sns.set(font_scale = 1)\n",
        "%matplotlib inline\n",
        "plt.style.use('ggplot')\n",
        "import warnings\n",
        "warnings.filterwarnings('ignore')\n",
        "from IPython.core.pylabtools import figsize\n",
        "\n",
        "from sklearn.model_selection import train_test_split\n",
        "from sklearn.ensemble import RandomForestRegressor"
      ]
    },
    {
      "cell_type": "code",
      "execution_count": 30,
      "id": "significant-browse",
      "metadata": {
        "execution": {
          "iopub.execute_input": "2021-05-15T19:05:11.282099Z",
          "iopub.status.busy": "2021-05-15T19:05:11.281450Z",
          "iopub.status.idle": "2021-05-15T19:05:13.873601Z",
          "shell.execute_reply": "2021-05-15T19:05:13.872956Z"
        },
        "id": "significant-browse",
        "papermill": {
          "duration": 2.626784,
          "end_time": "2021-05-15T19:05:13.873750",
          "exception": false,
          "start_time": "2021-05-15T19:05:11.246966",
          "status": "completed"
        },
        "tags": []
      },
      "outputs": [],
      "source": [
        "kickstarter_Multiple = pd.read_csv('/content/kickstarter_data_full.csv', index_col=0)"
      ]
    },
    {
      "cell_type": "code",
      "execution_count": 31,
      "id": "harmful-asbestos",
      "metadata": {
        "colab": {
          "base_uri": "https://localhost:8080/"
        },
        "execution": {
          "iopub.execute_input": "2021-05-15T19:05:13.991120Z",
          "iopub.status.busy": "2021-05-15T19:05:13.939315Z",
          "iopub.status.idle": "2021-05-15T19:05:14.018109Z",
          "shell.execute_reply": "2021-05-15T19:05:14.017443Z"
        },
        "id": "harmful-asbestos",
        "outputId": "166b9f31-384b-4443-fd17-6e3b43392e9e",
        "papermill": {
          "duration": 0.114204,
          "end_time": "2021-05-15T19:05:14.018248",
          "exception": false,
          "start_time": "2021-05-15T19:05:13.904044",
          "status": "completed"
        },
        "tags": []
      },
      "outputs": [
        {
          "output_type": "stream",
          "name": "stdout",
          "text": [
            "<class 'pandas.core.frame.DataFrame'>\n",
            "Int64Index: 20632 entries, 0 to 20631\n",
            "Data columns (total 67 columns):\n",
            " #   Column                       Non-Null Count  Dtype  \n",
            "---  ------                       --------------  -----  \n",
            " 0   id                           20632 non-null  int64  \n",
            " 1   photo                        20632 non-null  object \n",
            " 2   name                         20632 non-null  object \n",
            " 3   blurb                        20627 non-null  object \n",
            " 4   goal                         20632 non-null  float64\n",
            " 5   pledged                      20632 non-null  float64\n",
            " 6   state                        20632 non-null  object \n",
            " 7   slug                         20632 non-null  object \n",
            " 8   disable_communication        20632 non-null  bool   \n",
            " 9   country                      20632 non-null  object \n",
            " 10  currency                     20632 non-null  object \n",
            " 11  currency_symbol              20632 non-null  object \n",
            " 12  currency_trailing_code       20632 non-null  bool   \n",
            " 13  deadline                     20632 non-null  object \n",
            " 14  state_changed_at             20632 non-null  object \n",
            " 15  created_at                   20632 non-null  object \n",
            " 16  launched_at                  20632 non-null  object \n",
            " 17  staff_pick                   20632 non-null  bool   \n",
            " 18  backers_count                20632 non-null  int64  \n",
            " 19  static_usd_rate              20632 non-null  float64\n",
            " 20  usd_pledged                  20632 non-null  float64\n",
            " 21  creator                      20632 non-null  object \n",
            " 22  location                     20587 non-null  object \n",
            " 23  category                     18743 non-null  object \n",
            " 24  profile                      20632 non-null  object \n",
            " 25  spotlight                    20632 non-null  bool   \n",
            " 26  urls                         20632 non-null  object \n",
            " 27  source_url                   20632 non-null  object \n",
            " 28  friends                      60 non-null     object \n",
            " 29  is_starred                   60 non-null     object \n",
            " 30  is_backing                   60 non-null     object \n",
            " 31  permissions                  60 non-null     object \n",
            " 32  name_len                     20627 non-null  float64\n",
            " 33  name_len_clean               20627 non-null  float64\n",
            " 34  blurb_len                    20627 non-null  float64\n",
            " 35  blurb_len_clean              20627 non-null  float64\n",
            " 36  deadline_weekday             20632 non-null  object \n",
            " 37  state_changed_at_weekday     20632 non-null  object \n",
            " 38  created_at_weekday           20632 non-null  object \n",
            " 39  launched_at_weekday          20632 non-null  object \n",
            " 40  deadline_month               20632 non-null  int64  \n",
            " 41  deadline_day                 20632 non-null  int64  \n",
            " 42  deadline_yr                  20632 non-null  int64  \n",
            " 43  deadline_hr                  20632 non-null  int64  \n",
            " 44  state_changed_at_month       20632 non-null  int64  \n",
            " 45  state_changed_at_day         20632 non-null  int64  \n",
            " 46  state_changed_at_yr          20632 non-null  int64  \n",
            " 47  state_changed_at_hr          20632 non-null  int64  \n",
            " 48  created_at_month             20632 non-null  int64  \n",
            " 49  created_at_day               20632 non-null  int64  \n",
            " 50  created_at_yr                20632 non-null  int64  \n",
            " 51  created_at_hr                20632 non-null  int64  \n",
            " 52  launched_at_month            20632 non-null  int64  \n",
            " 53  launched_at_day              20632 non-null  int64  \n",
            " 54  launched_at_yr               20632 non-null  int64  \n",
            " 55  launched_at_hr               20632 non-null  int64  \n",
            " 56  create_to_launch             20632 non-null  object \n",
            " 57  launch_to_deadline           20632 non-null  object \n",
            " 58  launch_to_state_change       20632 non-null  object \n",
            " 59  create_to_launch_days        20632 non-null  int64  \n",
            " 60  launch_to_deadline_days      20632 non-null  int64  \n",
            " 61  launch_to_state_change_days  20632 non-null  int64  \n",
            " 62  SuccessfulBool               20632 non-null  int64  \n",
            " 63  USorGB                       20632 non-null  int64  \n",
            " 64  TOPCOUNTRY                   20632 non-null  int64  \n",
            " 65  LaunchedTuesday              20632 non-null  int64  \n",
            " 66  DeadlineWeekend              20632 non-null  int64  \n",
            "dtypes: bool(4), float64(8), int64(26), object(29)\n",
            "memory usage: 10.2+ MB\n"
          ]
        }
      ],
      "source": [
        "# The dataset have 20632 entries with 67 features.\n",
        "\n",
        "kickstarter_Multiple.shape\n",
        "kickstarter_Multiple.info()"
      ]
    },
    {
      "cell_type": "code",
      "execution_count": 32,
      "id": "q7y3vHmrVIUg",
      "metadata": {
        "id": "q7y3vHmrVIUg"
      },
      "outputs": [],
      "source": [
        "#The respective columns has 90% of null values\n",
        "#Hence we can drop them\n",
        "\n",
        "cols_to_drop = ['friends', 'is_starred', 'is_backing', 'permissions']\n",
        "kickstarter_Multiple.drop(labels=cols_to_drop, axis=1, inplace=True)"
      ]
    },
    {
      "cell_type": "code",
      "execution_count": 33,
      "id": "xrkDqFyrWEHF",
      "metadata": {
        "id": "xrkDqFyrWEHF"
      },
      "outputs": [],
      "source": [
        "#We manually identified some features which are not useful for prediction and dropping them.\n",
        "\n",
        "Features_to_drop = ['id', 'name','blurb','photo','slug','currency_symbol','currency_trailing_code', \n",
        "                   'creator','location','urls','source_url','name_len','spotlight','blurb_len',\n",
        "                   'create_to_launch','launch_to_deadline','launch_to_state_change','deadline_day', \n",
        "                   'deadline_hr','state_changed_at_day', 'state_changed_at_hr', 'created_at_day', \n",
        "                   'created_at_hr','launched_at_day', 'launched_at_hr','name_len_clean','blurb_len_clean',\n",
        "                   'state_changed_at','deadline_weekday','state_changed_at_weekday','created_at_weekday',\n",
        "                   'launched_at_weekday','deadline','created_at','launched_at','create_to_launch_days', \n",
        "                   'launch_to_deadline_days','launch_to_state_change_days','SuccessfulBool','USorGB',\n",
        "                   'TOPCOUNTRY','LaunchedTuesday','DeadlineWeekend', 'profile'\n",
        "                    ]\n",
        "\n",
        "kickstarter_Multiple.drop(labels=Features_to_drop, axis=1, inplace=True)"
      ]
    },
    {
      "cell_type": "code",
      "execution_count": 34,
      "id": "HavZID86PcMG",
      "metadata": {
        "colab": {
          "base_uri": "https://localhost:8080/"
        },
        "id": "HavZID86PcMG",
        "outputId": "57177d89-c092-4d1d-fc84-3e5cf4a83393"
      },
      "outputs": [
        {
          "output_type": "stream",
          "name": "stdout",
          "text": [
            "<class 'pandas.core.frame.DataFrame'>\n",
            "Int64Index: 20632 entries, 0 to 20631\n",
            "Data columns (total 19 columns):\n",
            " #   Column                  Non-Null Count  Dtype  \n",
            "---  ------                  --------------  -----  \n",
            " 0   goal                    20632 non-null  float64\n",
            " 1   pledged                 20632 non-null  float64\n",
            " 2   state                   20632 non-null  object \n",
            " 3   disable_communication   20632 non-null  bool   \n",
            " 4   country                 20632 non-null  object \n",
            " 5   currency                20632 non-null  object \n",
            " 6   staff_pick              20632 non-null  bool   \n",
            " 7   backers_count           20632 non-null  int64  \n",
            " 8   static_usd_rate         20632 non-null  float64\n",
            " 9   usd_pledged             20632 non-null  float64\n",
            " 10  category                18743 non-null  object \n",
            " 11  deadline_month          20632 non-null  int64  \n",
            " 12  deadline_yr             20632 non-null  int64  \n",
            " 13  state_changed_at_month  20632 non-null  int64  \n",
            " 14  state_changed_at_yr     20632 non-null  int64  \n",
            " 15  created_at_month        20632 non-null  int64  \n",
            " 16  created_at_yr           20632 non-null  int64  \n",
            " 17  launched_at_month       20632 non-null  int64  \n",
            " 18  launched_at_yr          20632 non-null  int64  \n",
            "dtypes: bool(2), float64(4), int64(9), object(4)\n",
            "memory usage: 2.9+ MB\n"
          ]
        }
      ],
      "source": [
        "kickstarter_Multiple.info()"
      ]
    },
    {
      "cell_type": "code",
      "execution_count": 35,
      "id": "5-1zCqqgZ4L_",
      "metadata": {
        "colab": {
          "base_uri": "https://localhost:8080/",
          "height": 475
        },
        "id": "5-1zCqqgZ4L_",
        "outputId": "6636c6e3-91da-460d-8897-983a893ba574"
      },
      "outputs": [
        {
          "output_type": "execute_result",
          "data": {
            "text/plain": [
              "Text(0, 0.5, 'Count')"
            ]
          },
          "metadata": {},
          "execution_count": 35
        },
        {
          "output_type": "display_data",
          "data": {
            "text/plain": [
              "<Figure size 640x480 with 1 Axes>"
            ],
            "image/png": "[encoded data removed]"
          },
          "metadata": {}
        }
      ],
      "source": [
        "value_counts = kickstarter_Multiple['state'].value_counts()\n",
        "\n",
        "# Create a bar plot of the unique values and their count\n",
        "plt.bar(value_counts.index, value_counts.values)\n",
        "\n",
        "# Add labels to the plot\n",
        "plt.xlabel('Name')\n",
        "plt.ylabel('Count')"
      ]
    },
    {
      "cell_type": "markdown",
      "id": "UrQOOaT6gW9R",
      "metadata": {
        "id": "UrQOOaT6gW9R"
      },
      "source": [
        "**Encoding**"
      ]
    },
    {
      "cell_type": "code",
      "execution_count": 36,
      "id": "SEGGaNjcgZCX",
      "metadata": {
        "id": "SEGGaNjcgZCX"
      },
      "outputs": [],
      "source": [
        "#converts type bool to 0 for false and 1 for true\n",
        "kickstarter_Multiple['disable_communication'] = kickstarter_Multiple['disable_communication'] * 1 \n",
        "\n",
        "#converts type bool to 0 for false and 1 for true\n",
        "kickstarter_Multiple['staff_pick'] = kickstarter_Multiple['staff_pick'] * 1 "
      ]
    },
    {
      "cell_type": "code",
      "execution_count": 37,
      "id": "5rdfau6IcivR",
      "metadata": {
        "id": "5rdfau6IcivR"
      },
      "outputs": [],
      "source": [
        "category = {'successful': 1, 'cancelled': 0, 'failed': 2, 'live':3,'suspended':4}\n",
        "kickstarter_Multiple['state'] = kickstarter_Multiple['state'].map(category)"
      ]
    },
    {
      "cell_type": "code",
      "execution_count": 38,
      "id": "KkVeZ6CahHeQ",
      "metadata": {
        "colab": {
          "base_uri": "https://localhost:8080/"
        },
        "id": "KkVeZ6CahHeQ",
        "outputId": "b85dc39a-f0ee-4970-df80-e859e0b4cfbb"
      },
      "outputs": [
        {
          "output_type": "stream",
          "name": "stdout",
          "text": [
            "<class 'pandas.core.frame.DataFrame'>\n",
            "Int64Index: 20632 entries, 0 to 20631\n",
            "Data columns (total 19 columns):\n",
            " #   Column                  Non-Null Count  Dtype  \n",
            "---  ------                  --------------  -----  \n",
            " 0   goal                    20632 non-null  float64\n",
            " 1   pledged                 20632 non-null  float64\n",
            " 2   state                   18172 non-null  float64\n",
            " 3   disable_communication   20632 non-null  int64  \n",
            " 4   country                 20632 non-null  object \n",
            " 5   currency                20632 non-null  object \n",
            " 6   staff_pick              20632 non-null  int64  \n",
            " 7   backers_count           20632 non-null  int64  \n",
            " 8   static_usd_rate         20632 non-null  float64\n",
            " 9   usd_pledged             20632 non-null  float64\n",
            " 10  category                18743 non-null  object \n",
            " 11  deadline_month          20632 non-null  int64  \n",
            " 12  deadline_yr             20632 non-null  int64  \n",
            " 13  state_changed_at_month  20632 non-null  int64  \n",
            " 14  state_changed_at_yr     20632 non-null  int64  \n",
            " 15  created_at_month        20632 non-null  int64  \n",
            " 16  created_at_yr           20632 non-null  int64  \n",
            " 17  launched_at_month       20632 non-null  int64  \n",
            " 18  launched_at_yr          20632 non-null  int64  \n",
            "dtypes: float64(5), int64(11), object(3)\n",
            "memory usage: 3.1+ MB\n"
          ]
        }
      ],
      "source": [
        "kickstarter_Multiple.info()"
      ]
    },
    {
      "cell_type": "code",
      "execution_count": 39,
      "id": "qb2PDqbekaT8",
      "metadata": {
        "colab": {
          "base_uri": "https://localhost:8080/"
        },
        "id": "qb2PDqbekaT8",
        "outputId": "6c9ccfef-4bc2-4db9-e771-d3a46ec288e8"
      },
      "outputs": [
        {
          "output_type": "stream",
          "name": "stdout",
          "text": [
            "['Academic' 'Places' nan 'Blues' 'Restaurants' 'Webseries' 'Thrillers'\n",
            " 'Shorts' 'Web' 'Apps' 'Gadgets' 'Hardware' 'Festivals' 'Plays' 'Musical'\n",
            " 'Flight' 'Spaces' 'Immersive' 'Experimental' 'Comedy' 'Wearables' 'Sound'\n",
            " 'Software' 'Robots' 'Makerspaces']\n",
            "['US' 'DE' 'GB' 'CA' 'AU' 'AT' 'CH' 'NZ' 'IT' 'NL' 'SE' 'FR' 'MX' 'ES'\n",
            " 'DK' 'IE' 'NO' 'BE' 'LU' 'SG' 'HK']\n",
            "['USD' 'EUR' 'GBP' 'CAD' 'AUD' 'CHF' 'NZD' 'SEK' 'MXN' 'DKK' 'NOK' 'SGD'\n",
            " 'HKD']\n"
          ]
        }
      ],
      "source": [
        "print(kickstarter_Multiple['category'].unique())\n",
        "print(kickstarter_Multiple['country'].unique())\n",
        "print(kickstarter_Multiple['currency'].unique())"
      ]
    },
    {
      "cell_type": "code",
      "execution_count": 40,
      "id": "FQtPELB8kmOs",
      "metadata": {
        "id": "FQtPELB8kmOs"
      },
      "outputs": [],
      "source": [
        "# perform categorical encoding for the 'color' column\n",
        "from sklearn.preprocessing import LabelEncoder\n",
        "le = LabelEncoder()\n",
        "kickstarter_clean = kickstarter_Multiple.copy()\n",
        "kickstarter_clean['category'] = le.fit_transform(kickstarter_clean['category'])\n",
        "kickstarter_clean['country'] = le.fit_transform(kickstarter_clean['country'])\n",
        "kickstarter_clean['currency'] = le.fit_transform(kickstarter_clean['currency'])\n"
      ]
    },
    {
      "cell_type": "code",
      "source": [
        "kickstarter_clean = kickstarter_clean.dropna()"
      ],
      "metadata": {
        "id": "28qgKZ8xvqFx"
      },
      "id": "28qgKZ8xvqFx",
      "execution_count": 41,
      "outputs": []
    },
    {
      "cell_type": "code",
      "execution_count": 42,
      "id": "TLgnOQ5HlC8N",
      "metadata": {
        "colab": {
          "base_uri": "https://localhost:8080/"
        },
        "id": "TLgnOQ5HlC8N",
        "outputId": "ab45d218-4163-48cf-e98b-9af76e7e6ffb"
      },
      "outputs": [
        {
          "output_type": "stream",
          "name": "stdout",
          "text": [
            "<class 'pandas.core.frame.DataFrame'>\n",
            "Int64Index: 18172 entries, 0 to 20631\n",
            "Data columns (total 19 columns):\n",
            " #   Column                  Non-Null Count  Dtype  \n",
            "---  ------                  --------------  -----  \n",
            " 0   goal                    18172 non-null  float64\n",
            " 1   pledged                 18172 non-null  float64\n",
            " 2   state                   18172 non-null  float64\n",
            " 3   disable_communication   18172 non-null  int64  \n",
            " 4   country                 18172 non-null  int64  \n",
            " 5   currency                18172 non-null  int64  \n",
            " 6   staff_pick              18172 non-null  int64  \n",
            " 7   backers_count           18172 non-null  int64  \n",
            " 8   static_usd_rate         18172 non-null  float64\n",
            " 9   usd_pledged             18172 non-null  float64\n",
            " 10  category                18172 non-null  int64  \n",
            " 11  deadline_month          18172 non-null  int64  \n",
            " 12  deadline_yr             18172 non-null  int64  \n",
            " 13  state_changed_at_month  18172 non-null  int64  \n",
            " 14  state_changed_at_yr     18172 non-null  int64  \n",
            " 15  created_at_month        18172 non-null  int64  \n",
            " 16  created_at_yr           18172 non-null  int64  \n",
            " 17  launched_at_month       18172 non-null  int64  \n",
            " 18  launched_at_yr          18172 non-null  int64  \n",
            "dtypes: float64(5), int64(14)\n",
            "memory usage: 2.8 MB\n"
          ]
        }
      ],
      "source": [
        "kickstarter_clean.info()"
      ]
    },
    {
      "cell_type": "markdown",
      "id": "d_7ezWP_SByO",
      "metadata": {
        "id": "d_7ezWP_SByO"
      },
      "source": [
        "# **Feature Extraction using RFE for Multiple Classification**"
      ]
    },
    {
      "cell_type": "code",
      "execution_count": 43,
      "id": "AeVDwNqgSFCA",
      "metadata": {
        "id": "AeVDwNqgSFCA"
      },
      "outputs": [],
      "source": [
        "from sklearn.tree import DecisionTreeClassifier\n",
        "from sklearn.feature_selection import RFE\n",
        "from sklearn.model_selection import train_test_split\n",
        "\n",
        "val_x = kickstarter_clean.loc[:, ~kickstarter_clean.columns.isin(['state'])]\n",
        "val_y = kickstarter_clean['state']\n"
      ]
    },
    {
      "cell_type": "code",
      "execution_count": 44,
      "id": "c23216b3",
      "metadata": {
        "colab": {
          "base_uri": "https://localhost:8080/"
        },
        "id": "c23216b3",
        "outputId": "b57154dd-dd55-47b6-ca5a-40f714130729"
      },
      "outputs": [
        {
          "output_type": "stream",
          "name": "stdout",
          "text": [
            "<class 'pandas.core.frame.DataFrame'>\n",
            "Int64Index: 18172 entries, 0 to 20631\n",
            "Data columns (total 18 columns):\n",
            " #   Column                  Non-Null Count  Dtype  \n",
            "---  ------                  --------------  -----  \n",
            " 0   goal                    18172 non-null  float64\n",
            " 1   pledged                 18172 non-null  float64\n",
            " 2   disable_communication   18172 non-null  int64  \n",
            " 3   country                 18172 non-null  int64  \n",
            " 4   currency                18172 non-null  int64  \n",
            " 5   staff_pick              18172 non-null  int64  \n",
            " 6   backers_count           18172 non-null  int64  \n",
            " 7   static_usd_rate         18172 non-null  float64\n",
            " 8   usd_pledged             18172 non-null  float64\n",
            " 9   category                18172 non-null  int64  \n",
            " 10  deadline_month          18172 non-null  int64  \n",
            " 11  deadline_yr             18172 non-null  int64  \n",
            " 12  state_changed_at_month  18172 non-null  int64  \n",
            " 13  state_changed_at_yr     18172 non-null  int64  \n",
            " 14  created_at_month        18172 non-null  int64  \n",
            " 15  created_at_yr           18172 non-null  int64  \n",
            " 16  launched_at_month       18172 non-null  int64  \n",
            " 17  launched_at_yr          18172 non-null  int64  \n",
            "dtypes: float64(4), int64(14)\n",
            "memory usage: 2.6 MB\n"
          ]
        }
      ],
      "source": [
        "val_x.info()"
      ]
    },
    {
      "cell_type": "code",
      "execution_count": 45,
      "id": "97846007",
      "metadata": {
        "colab": {
          "base_uri": "https://localhost:8080/"
        },
        "id": "97846007",
        "outputId": "e01da005-686a-469c-bc03-771bb2db86e9"
      },
      "outputs": [
        {
          "output_type": "stream",
          "name": "stdout",
          "text": [
            "<class 'pandas.core.series.Series'>\n",
            "Int64Index: 18172 entries, 0 to 20631\n",
            "Series name: state\n",
            "Non-Null Count  Dtype  \n",
            "--------------  -----  \n",
            "18172 non-null  float64\n",
            "dtypes: float64(1)\n",
            "memory usage: 283.9 KB\n"
          ]
        }
      ],
      "source": [
        "val_y.info()"
      ]
    },
    {
      "cell_type": "code",
      "execution_count": 46,
      "id": "402cc7fc",
      "metadata": {
        "colab": {
          "base_uri": "https://localhost:8080/"
        },
        "id": "402cc7fc",
        "outputId": "1f7ffc29-cae5-448a-d7c6-f7617de63605"
      },
      "outputs": [
        {
          "output_type": "stream",
          "name": "stdout",
          "text": [
            "<class 'pandas.core.frame.DataFrame'>\n",
            "Int64Index: 18172 entries, 0 to 20631\n",
            "Data columns (total 18 columns):\n",
            " #   Column                  Non-Null Count  Dtype  \n",
            "---  ------                  --------------  -----  \n",
            " 0   goal                    18172 non-null  float64\n",
            " 1   pledged                 18172 non-null  float64\n",
            " 2   disable_communication   18172 non-null  int64  \n",
            " 3   country                 18172 non-null  int64  \n",
            " 4   currency                18172 non-null  int64  \n",
            " 5   staff_pick              18172 non-null  int64  \n",
            " 6   backers_count           18172 non-null  int64  \n",
            " 7   static_usd_rate         18172 non-null  float64\n",
            " 8   usd_pledged             18172 non-null  float64\n",
            " 9   category                18172 non-null  int64  \n",
            " 10  deadline_month          18172 non-null  int64  \n",
            " 11  deadline_yr             18172 non-null  int64  \n",
            " 12  state_changed_at_month  18172 non-null  int64  \n",
            " 13  state_changed_at_yr     18172 non-null  int64  \n",
            " 14  created_at_month        18172 non-null  int64  \n",
            " 15  created_at_yr           18172 non-null  int64  \n",
            " 16  launched_at_month       18172 non-null  int64  \n",
            " 17  launched_at_yr          18172 non-null  int64  \n",
            "dtypes: float64(4), int64(14)\n",
            "memory usage: 2.6 MB\n"
          ]
        }
      ],
      "source": [
        "val_x.info()"
      ]
    },
    {
      "cell_type": "code",
      "execution_count": 47,
      "id": "9e614a03",
      "metadata": {
        "colab": {
          "base_uri": "https://localhost:8080/"
        },
        "id": "9e614a03",
        "outputId": "2768f87e-72e4-4158-dac7-8125ebf70884"
      },
      "outputs": [
        {
          "output_type": "stream",
          "name": "stdout",
          "text": [
            "Model Score with selected features  1 is:  0.8026084085406119\n",
            "Model Score with selected features  2 is:  0.9740810037420207\n",
            "Model Score with selected features  3 is:  0.9878934624697336\n",
            "Model Score with selected features  4 is:  0.9957076821483601\n",
            "Model Score with selected features  5 is:  0.9964780981730135\n",
            "Model Score with selected features  6 is:  0.9990644948272067\n",
            "Model Score with selected features  7 is:  0.99950473255558\n",
            "Model Score with selected features  8 is:  0.9999449702839533\n",
            "Model Score with selected features  9 is:  1.0\n",
            "Model Score with selected features  10 is:  1.0\n",
            "Model Score with selected features  11 is:  1.0\n",
            "Model Score with selected features  12 is:  1.0\n",
            "Model Score with selected features  13 is:  1.0\n",
            "Model Score with selected features  14 is:  1.0\n",
            "Model Score with selected features  15 is:  1.0\n",
            "Model Score with selected features  16 is:  1.0\n",
            "Model Score with selected features  17 is:  1.0\n",
            "Model Score with selected features  18 is:  1.0\n"
          ]
        }
      ],
      "source": [
        "\n",
        "# Split the dataset into training and testing sets\n",
        "X_train, X_test, y_train, y_test = train_test_split(val_x, val_y, test_size=0.3, random_state=42)\n",
        "\n",
        "for i in range(1,len(X_train.columns)+1):\n",
        "\n",
        "\n",
        "  # Create a decision tree classifier\n",
        "  dt = DecisionTreeClassifier()\n",
        "\n",
        "  # Create RFE selector with decision tree classifier\n",
        "  selector = RFE(dt, n_features_to_select=i)\n",
        "  #print(selector)\n",
        "\n",
        "  # Fit the selector to the training data\n",
        "  fit = selector.fit(val_x, val_y)\n",
        "\n",
        "  score = selector.score(val_x, val_y)\n",
        "  print(\"Model Score with selected features \", i, \"is: \", score)\n"
      ]
    },
    {
      "cell_type": "code",
      "execution_count": 48,
      "id": "ca4134cf",
      "metadata": {
        "colab": {
          "base_uri": "https://localhost:8080/"
        },
        "id": "ca4134cf",
        "outputId": "98d0f627-63fa-4692-9a8e-01e13f690e9a"
      },
      "outputs": [
        {
          "output_type": "stream",
          "name": "stdout",
          "text": [
            "Model Score with selected features  4 is:  0.9957076821483601\n"
          ]
        }
      ],
      "source": [
        "\n",
        "dt = DecisionTreeClassifier()\n",
        "\n",
        "selector = RFE(dt, n_features_to_select=4)\n",
        "fit = selector.fit(val_x, val_y)\n",
        "\n",
        "score = selector.score(val_x, val_y)\n",
        "print(\"Model Score with selected features \", 4, \"is: \", score)"
      ]
    },
    {
      "cell_type": "code",
      "execution_count": 49,
      "id": "PbRVaNTiUZu5",
      "metadata": {
        "colab": {
          "base_uri": "https://localhost:8080/"
        },
        "id": "PbRVaNTiUZu5",
        "outputId": "9238fbb8-f8a8-4c7b-fad9-49a2c7b49967"
      },
      "outputs": [
        {
          "output_type": "stream",
          "name": "stdout",
          "text": [
            "Num Features: 4\n",
            "Selected Features: [ True  True False False False False  True False False False False False\n",
            " False False False False False  True]\n",
            "Selected Features names: Index(['goal', 'pledged', 'backers_count', 'launched_at_yr'], dtype='object')\n",
            "Feature Ranking: [ 1  1  3 15 12 13  1  7  2 10  4  9  5 11  8 14  6  1]\n"
          ]
        }
      ],
      "source": [
        "selected_features = val_x.columns[fit.support_]\n",
        "print(\"Num Features:\", fit.n_features_)\n",
        "print(\"Selected Features:\", fit.support_)\n",
        "print(\"Selected Features names:\", selected_features)\n",
        "print(\"Feature Ranking:\", fit.ranking_)"
      ]
    },
    {
      "cell_type": "code",
      "execution_count": 50,
      "id": "9gDC0eZiVhEn",
      "metadata": {
        "colab": {
          "base_uri": "https://localhost:8080/"
        },
        "id": "9gDC0eZiVhEn",
        "outputId": "f7fa8452-bd47-419f-f3fe-8e6520a84a91"
      },
      "outputs": [
        {
          "output_type": "execute_result",
          "data": {
            "text/plain": [
              "0"
            ]
          },
          "metadata": {},
          "execution_count": 50
        }
      ],
      "source": [
        "kickstarter_clean.isnull().any().sum()"
      ]
    },
    {
      "cell_type": "code",
      "execution_count": 51,
      "id": "xmpF3e23bg2X",
      "metadata": {
        "id": "xmpF3e23bg2X"
      },
      "outputs": [],
      "source": [
        "\n",
        "X_new = kickstarter_clean[['goal', 'pledged', 'backers_count','launched_at_yr']]\n",
        "y_new = kickstarter_clean['state']\n"
      ]
    },
    {
      "cell_type": "code",
      "execution_count": 52,
      "id": "ZARXNgzc0BmO",
      "metadata": {
        "colab": {
          "base_uri": "https://localhost:8080/"
        },
        "id": "ZARXNgzc0BmO",
        "outputId": "f31273fa-e82b-4c87-eacc-77041472929b"
      },
      "outputs": [
        {
          "output_type": "execute_result",
          "data": {
            "text/plain": [
              "Index(['goal', 'pledged', 'backers_count', 'launched_at_yr'], dtype='object')"
            ]
          },
          "metadata": {},
          "execution_count": 52
        }
      ],
      "source": [
        "X_new.columns"
      ]
    },
    {
      "cell_type": "code",
      "execution_count": 54,
      "id": "Suop9PH70Ee6",
      "metadata": {
        "colab": {
          "base_uri": "https://localhost:8080/"
        },
        "id": "Suop9PH70Ee6",
        "outputId": "cc0c83c5-6e83-4717-dd1e-8959cce01bc4"
      },
      "outputs": [
        {
          "output_type": "execute_result",
          "data": {
            "text/plain": [
              "0        2.0\n",
              "1        2.0\n",
              "2        2.0\n",
              "3        2.0\n",
              "4        2.0\n",
              "        ... \n",
              "20627    2.0\n",
              "20628    2.0\n",
              "20629    2.0\n",
              "20630    2.0\n",
              "20631    2.0\n",
              "Name: state, Length: 18172, dtype: float64"
            ]
          },
          "metadata": {},
          "execution_count": 54
        }
      ],
      "source": [
        "y_new"
      ]
    },
    {
      "cell_type": "code",
      "execution_count": 55,
      "id": "e8koPvO1WWLs",
      "metadata": {
        "id": "e8koPvO1WWLs"
      },
      "outputs": [],
      "source": [
        "# Split the data into training and testing sets\n",
        "\n",
        "X_train, X_test, y_train, y_test = train_test_split(X_new, y_new, test_size=0.3, random_state=16)\n"
      ]
    },
    {
      "cell_type": "markdown",
      "id": "ckLz-4fVnaAr",
      "metadata": {
        "id": "ckLz-4fVnaAr"
      },
      "source": [
        "# **Machine Learning Models**"
      ]
    },
    {
      "cell_type": "markdown",
      "id": "I3OASqxEndiq",
      "metadata": {
        "id": "I3OASqxEndiq"
      },
      "source": [
        "# **1. Logistic Regression**\n"
      ]
    },
    {
      "cell_type": "code",
      "execution_count": 56,
      "id": "XUw0g7ztdbQj",
      "metadata": {
        "id": "XUw0g7ztdbQj"
      },
      "outputs": [],
      "source": [
        "from sklearn.linear_model import LogisticRegression\n",
        "# instantiate the model (using the default parameters)\n",
        "logreg = LogisticRegression(random_state=16)\n",
        "\n",
        "# fit the model with data\n",
        "logreg.fit(X_train, y_train)\n",
        "\n",
        "y_pred = logreg.predict(X_test)\n"
      ]
    },
    {
      "cell_type": "code",
      "execution_count": 57,
      "id": "GOghuF8tdz6a",
      "metadata": {
        "colab": {
          "base_uri": "https://localhost:8080/"
        },
        "id": "GOghuF8tdz6a",
        "outputId": "a9cbaf53-60b2-4763-ce4f-741ccdb511a7"
      },
      "outputs": [
        {
          "output_type": "execute_result",
          "data": {
            "text/plain": [
              "array([[1687,  139,    0,    0],\n",
              "       [   5, 3388,   21,    0],\n",
              "       [  16,  131,    0,    0],\n",
              "       [  14,   51,    0,    0]])"
            ]
          },
          "metadata": {},
          "execution_count": 57
        }
      ],
      "source": [
        "# import the metrics class\n",
        "from sklearn import metrics\n",
        "\n",
        "cnf_matrix = metrics.confusion_matrix(y_test, y_pred)\n",
        "cnf_matrix"
      ]
    },
    {
      "cell_type": "code",
      "execution_count": 58,
      "id": "yhbCsoHBd4x3",
      "metadata": {
        "colab": {
          "base_uri": "https://localhost:8080/"
        },
        "id": "yhbCsoHBd4x3",
        "outputId": "d8f35615-2c27-4348-bc08-0ab5becd1ef1"
      },
      "outputs": [
        {
          "output_type": "stream",
          "name": "stdout",
          "text": [
            "              precision    recall  f1-score   support\n",
            "\n",
            "         1.0       0.98      0.92      0.95      1826\n",
            "         2.0       0.91      0.99      0.95      3414\n",
            "         3.0       0.00      0.00      0.00       147\n",
            "         4.0       0.00      0.00      0.00        65\n",
            "\n",
            "    accuracy                           0.93      5452\n",
            "   macro avg       0.47      0.48      0.48      5452\n",
            "weighted avg       0.90      0.93      0.91      5452\n",
            "\n"
          ]
        }
      ],
      "source": [
        "from sklearn.metrics import classification_report\n",
        "from sklearn.metrics import accuracy_score\n",
        "print(classification_report(y_test, y_pred))"
      ]
    },
    {
      "cell_type": "code",
      "execution_count": 59,
      "id": "4tW0EM1rByI9",
      "metadata": {
        "colab": {
          "base_uri": "https://localhost:8080/"
        },
        "id": "4tW0EM1rByI9",
        "outputId": "7a48afd2-29e3-4f3f-daff-06da78e21023"
      },
      "outputs": [
        {
          "output_type": "stream",
          "name": "stdout",
          "text": [
            "Accuracy: 0.9308510638297872\n"
          ]
        }
      ],
      "source": [
        "accuracy_log = accuracy_score(y_test, y_pred)\n",
        "print('Accuracy:', accuracy_log)"
      ]
    },
    {
      "cell_type": "markdown",
      "id": "Avf4kAJouXHw",
      "metadata": {
        "id": "Avf4kAJouXHw"
      },
      "source": [
        "# **2. Decision Tree with depth 3**"
      ]
    },
    {
      "cell_type": "code",
      "execution_count": 79,
      "id": "txiQxWY1uSMV",
      "metadata": {
        "id": "txiQxWY1uSMV"
      },
      "outputs": [],
      "source": [
        "from sklearn.model_selection import train_test_split\n",
        "from sklearn.tree import DecisionTreeClassifier, export_graphviz\n",
        "\n",
        "from sklearn.tree import DecisionTreeClassifier\n",
        "dtc_3 = DecisionTreeClassifier(max_depth = 3)\n",
        "dtc_3.fit(X_train, y_train)\n",
        "y_pred = dtc_3.predict(X_test)\n"
      ]
    },
    {
      "cell_type": "code",
      "execution_count": 80,
      "id": "ZtytR3IzqPJ1",
      "metadata": {
        "colab": {
          "base_uri": "https://localhost:8080/"
        },
        "id": "ZtytR3IzqPJ1",
        "outputId": "4c6aa9a9-0f59-431a-9d19-a55a633d14cf"
      },
      "outputs": [
        {
          "output_type": "stream",
          "name": "stdout",
          "text": [
            "              precision    recall  f1-score   support\n",
            "\n",
            "         1.0       0.81      0.91      0.86      1826\n",
            "         2.0       0.93      0.90      0.91      3414\n",
            "         3.0       0.84      0.69      0.76       147\n",
            "         4.0       0.00      0.00      0.00        65\n",
            "\n",
            "    accuracy                           0.88      5452\n",
            "   macro avg       0.65      0.62      0.63      5452\n",
            "weighted avg       0.88      0.88      0.88      5452\n",
            "\n"
          ]
        }
      ],
      "source": [
        "\n",
        "from sklearn.metrics import classification_report\n",
        "print(classification_report(y_test, y_pred))\n"
      ]
    },
    {
      "cell_type": "code",
      "execution_count": 81,
      "id": "7BYEy6LDqDHC",
      "metadata": {
        "colab": {
          "base_uri": "https://localhost:8080/",
          "height": 539
        },
        "id": "7BYEy6LDqDHC",
        "outputId": "f54918ca-3eb6-40aa-f636-4e0b942ad6fe"
      },
      "outputs": [
        {
          "output_type": "execute_result",
          "data": {
            "image/svg+xml": "<?xml version=\"1.0\" encoding=\"UTF-8\" standalone=\"no\"?>\n<!DOCTYPE svg PUBLIC \"-//W3C//DTD SVG 1.1//EN\"\n \"http://www.w3.org/Graphics/SVG/1.1/DTD/svg11.dtd\">\n<!-- Generated by graphviz version 2.43.0 (0)\n -->\n<!-- Title: Tree Pages: 1 -->\n<svg width=\"1419pt\" height=\"373pt\"\n viewBox=\"0.00 0.00 1418.50 373.00\" xmlns=\"http://www.w3.org/2000/svg\" xmlns:xlink=\"http://www.w3.org/1999/xlink\">\n<g id=\"graph0\" class=\"graph\" transform=\"scale(1 1) rotate(0) translate(4 369)\">\n<title>Tree</title>\n<polygon fill=\"white\" stroke=\"transparent\" points=\"-4,4 -4,-369 1414.5,-369 1414.5,4 -4,4\"/>\n<!-- 0 -->\n<g id=\"node1\" class=\"node\">\n<title>0</title>\n<path fill=\"#adf3a7\" stroke=\"black\" d=\"M753,-365C753,-365 577,-365 577,-365 571,-365 565,-359 565,-353 565,-353 565,-309 565,-309 565,-303 571,-297 577,-297 577,-297 753,-297 753,-297 759,-297 765,-303 765,-309 765,-309 765,-353 765,-353 765,-359 759,-365 753,-365\"/>\n<text text-anchor=\"start\" x=\"600\" y=\"-349.8\" font-family=\"Helvetica,sans-Serif\" font-size=\"14.00\">backers_count ≤ 17.5</text>\n<text text-anchor=\"start\" x=\"629.5\" y=\"-334.8\" font-family=\"Helvetica,sans-Serif\" font-size=\"14.00\">gini = 0.495</text>\n<text text-anchor=\"start\" x=\"612.5\" y=\"-319.8\" font-family=\"Helvetica,sans-Serif\" font-size=\"14.00\">samples = 12720</text>\n<text text-anchor=\"start\" x=\"573\" y=\"-304.8\" font-family=\"Helvetica,sans-Serif\" font-size=\"14.00\">value = [4192, 8002, 361, 165]</text>\n</g>\n<!-- 1 -->\n<g id=\"node2\" class=\"node\">\n<title>1</title>\n<path fill=\"#5be84f\" stroke=\"black\" d=\"M585.5,-261C585.5,-261 424.5,-261 424.5,-261 418.5,-261 412.5,-255 412.5,-249 412.5,-249 412.5,-205 412.5,-205 412.5,-199 418.5,-193 424.5,-193 424.5,-193 585.5,-193 585.5,-193 591.5,-193 597.5,-199 597.5,-205 597.5,-205 597.5,-249 597.5,-249 597.5,-255 591.5,-261 585.5,-261\"/>\n<text text-anchor=\"start\" x=\"430.5\" y=\"-245.8\" font-family=\"Helvetica,sans-Serif\" font-size=\"14.00\">launched_at_yr ≤ 2016.5</text>\n<text text-anchor=\"start\" x=\"469.5\" y=\"-230.8\" font-family=\"Helvetica,sans-Serif\" font-size=\"14.00\">gini = 0.191</text>\n<text text-anchor=\"start\" x=\"456.5\" y=\"-215.8\" font-family=\"Helvetica,sans-Serif\" font-size=\"14.00\">samples = 6883</text>\n<text text-anchor=\"start\" x=\"420.5\" y=\"-200.8\" font-family=\"Helvetica,sans-Serif\" font-size=\"14.00\">value = [376, 6175, 241, 91]</text>\n</g>\n<!-- 0&#45;&gt;1 -->\n<g id=\"edge1\" class=\"edge\">\n<title>0&#45;&gt;1</title>\n<path fill=\"none\" stroke=\"black\" d=\"M613.05,-296.88C597.89,-287.21 581.18,-276.56 565.53,-266.59\"/>\n<polygon fill=\"black\" stroke=\"black\" points=\"567.27,-263.55 556.96,-261.12 563.51,-269.45 567.27,-263.55\"/>\n<text text-anchor=\"middle\" x=\"562.36\" y=\"-281.83\" font-family=\"Helvetica,sans-Serif\" font-size=\"14.00\">True</text>\n</g>\n<!-- 8 -->\n<g id=\"node9\" class=\"node\">\n<title>8</title>\n<path fill=\"#f2c19d\" stroke=\"black\" d=\"M936,-261C936,-261 768,-261 768,-261 762,-261 756,-255 756,-249 756,-249 756,-205 756,-205 756,-199 762,-193 768,-193 768,-193 936,-193 936,-193 942,-193 948,-199 948,-205 948,-205 948,-249 948,-249 948,-255 942,-261 936,-261\"/>\n<text text-anchor=\"start\" x=\"811\" y=\"-245.8\" font-family=\"Helvetica,sans-Serif\" font-size=\"14.00\">goal ≤ 9715.5</text>\n<text text-anchor=\"start\" x=\"816.5\" y=\"-230.8\" font-family=\"Helvetica,sans-Serif\" font-size=\"14.00\">gini = 0.474</text>\n<text text-anchor=\"start\" x=\"803.5\" y=\"-215.8\" font-family=\"Helvetica,sans-Serif\" font-size=\"14.00\">samples = 5837</text>\n<text text-anchor=\"start\" x=\"764\" y=\"-200.8\" font-family=\"Helvetica,sans-Serif\" font-size=\"14.00\">value = [3816, 1827, 120, 74]</text>\n</g>\n<!-- 0&#45;&gt;8 -->\n<g id=\"edge8\" class=\"edge\">\n<title>0&#45;&gt;8</title>\n<path fill=\"none\" stroke=\"black\" d=\"M725.71,-296.88C743.77,-287.04 763.69,-276.17 782.27,-266.03\"/>\n<polygon fill=\"black\" stroke=\"black\" points=\"784.17,-268.99 791.27,-261.12 780.82,-262.84 784.17,-268.99\"/>\n<text text-anchor=\"middle\" x=\"784.22\" y=\"-281.41\" font-family=\"Helvetica,sans-Serif\" font-size=\"14.00\">False</text>\n</g>\n<!-- 2 -->\n<g id=\"node3\" class=\"node\">\n<title>2</title>\n<path fill=\"#55e748\" stroke=\"black\" d=\"M345.5,-157C345.5,-157 192.5,-157 192.5,-157 186.5,-157 180.5,-151 180.5,-145 180.5,-145 180.5,-101 180.5,-101 180.5,-95 186.5,-89 192.5,-89 192.5,-89 345.5,-89 345.5,-89 351.5,-89 357.5,-95 357.5,-101 357.5,-101 357.5,-145 357.5,-145 357.5,-151 351.5,-157 345.5,-157\"/>\n<text text-anchor=\"start\" x=\"231.5\" y=\"-141.8\" font-family=\"Helvetica,sans-Serif\" font-size=\"14.00\">goal ≤ 812.5</text>\n<text text-anchor=\"start\" x=\"233.5\" y=\"-126.8\" font-family=\"Helvetica,sans-Serif\" font-size=\"14.00\">gini = 0.136</text>\n<text text-anchor=\"start\" x=\"220.5\" y=\"-111.8\" font-family=\"Helvetica,sans-Serif\" font-size=\"14.00\">samples = 6602</text>\n<text text-anchor=\"start\" x=\"188.5\" y=\"-96.8\" font-family=\"Helvetica,sans-Serif\" font-size=\"14.00\">value = [375, 6125, 12, 90]</text>\n</g>\n<!-- 1&#45;&gt;2 -->\n<g id=\"edge2\" class=\"edge\">\n<title>1&#45;&gt;2</title>\n<path fill=\"none\" stroke=\"black\" d=\"M428.38,-192.88C404.97,-182.77 379.08,-171.58 355.08,-161.21\"/>\n<polygon fill=\"black\" stroke=\"black\" points=\"356.21,-157.88 345.64,-157.12 353.43,-164.3 356.21,-157.88\"/>\n</g>\n<!-- 5 -->\n<g id=\"node6\" class=\"node\">\n<title>5</title>\n<path fill=\"#66b3eb\" stroke=\"black\" d=\"M566.5,-157C566.5,-157 443.5,-157 443.5,-157 437.5,-157 431.5,-151 431.5,-145 431.5,-145 431.5,-101 431.5,-101 431.5,-95 437.5,-89 443.5,-89 443.5,-89 566.5,-89 566.5,-89 572.5,-89 578.5,-95 578.5,-101 578.5,-101 578.5,-145 578.5,-145 578.5,-151 572.5,-157 566.5,-157\"/>\n<text text-anchor=\"start\" x=\"460\" y=\"-141.8\" font-family=\"Helvetica,sans-Serif\" font-size=\"14.00\">goal ≤ 41500.0</text>\n<text text-anchor=\"start\" x=\"469.5\" y=\"-126.8\" font-family=\"Helvetica,sans-Serif\" font-size=\"14.00\">gini = 0.304</text>\n<text text-anchor=\"start\" x=\"460\" y=\"-111.8\" font-family=\"Helvetica,sans-Serif\" font-size=\"14.00\">samples = 281</text>\n<text text-anchor=\"start\" x=\"439.5\" y=\"-96.8\" font-family=\"Helvetica,sans-Serif\" font-size=\"14.00\">value = [1, 50, 229, 1]</text>\n</g>\n<!-- 1&#45;&gt;5 -->\n<g id=\"edge5\" class=\"edge\">\n<title>1&#45;&gt;5</title>\n<path fill=\"none\" stroke=\"black\" d=\"M505,-192.88C505,-184.78 505,-175.98 505,-167.47\"/>\n<polygon fill=\"black\" stroke=\"black\" points=\"508.5,-167.3 505,-157.3 501.5,-167.3 508.5,-167.3\"/>\n</g>\n<!-- 3 -->\n<g id=\"node4\" class=\"node\">\n<title>3</title>\n<path fill=\"#c2f6be\" stroke=\"black\" d=\"M150,-53C150,-53 12,-53 12,-53 6,-53 0,-47 0,-41 0,-41 0,-12 0,-12 0,-6 6,0 12,0 12,0 150,0 150,0 156,0 162,-6 162,-12 162,-12 162,-41 162,-41 162,-47 156,-53 150,-53\"/>\n<text text-anchor=\"start\" x=\"49\" y=\"-37.8\" font-family=\"Helvetica,sans-Serif\" font-size=\"14.00\">gini = 0.51</text>\n<text text-anchor=\"start\" x=\"36\" y=\"-22.8\" font-family=\"Helvetica,sans-Serif\" font-size=\"14.00\">samples = 647</text>\n<text text-anchor=\"start\" x=\"8\" y=\"-7.8\" font-family=\"Helvetica,sans-Serif\" font-size=\"14.00\">value = [247, 379, 1, 20]</text>\n</g>\n<!-- 2&#45;&gt;3 -->\n<g id=\"edge3\" class=\"edge\">\n<title>2&#45;&gt;3</title>\n<path fill=\"none\" stroke=\"black\" d=\"M203.25,-88.95C182.95,-78.75 160.72,-67.57 140.85,-57.59\"/>\n<polygon fill=\"black\" stroke=\"black\" points=\"142.41,-54.45 131.9,-53.09 139.27,-60.71 142.41,-54.45\"/>\n</g>\n<!-- 4 -->\n<g id=\"node5\" class=\"node\">\n<title>4</title>\n<path fill=\"#4ee640\" stroke=\"black\" d=\"M345.5,-53C345.5,-53 192.5,-53 192.5,-53 186.5,-53 180.5,-47 180.5,-41 180.5,-41 180.5,-12 180.5,-12 180.5,-6 186.5,0 192.5,0 192.5,0 345.5,0 345.5,0 351.5,0 357.5,-6 357.5,-12 357.5,-12 357.5,-41 357.5,-41 357.5,-47 351.5,-53 345.5,-53\"/>\n<text text-anchor=\"start\" x=\"233.5\" y=\"-37.8\" font-family=\"Helvetica,sans-Serif\" font-size=\"14.00\">gini = 0.068</text>\n<text text-anchor=\"start\" x=\"220.5\" y=\"-22.8\" font-family=\"Helvetica,sans-Serif\" font-size=\"14.00\">samples = 5955</text>\n<text text-anchor=\"start\" x=\"188.5\" y=\"-7.8\" font-family=\"Helvetica,sans-Serif\" font-size=\"14.00\">value = [128, 5746, 11, 70]</text>\n</g>\n<!-- 2&#45;&gt;4 -->\n<g id=\"edge4\" class=\"edge\">\n<title>2&#45;&gt;4</title>\n<path fill=\"none\" stroke=\"black\" d=\"M269,-88.95C269,-80.72 269,-71.85 269,-63.48\"/>\n<polygon fill=\"black\" stroke=\"black\" points=\"272.5,-63.24 269,-53.24 265.5,-63.24 272.5,-63.24\"/>\n</g>\n<!-- 6 -->\n<g id=\"node7\" class=\"node\">\n<title>6</title>\n<path fill=\"#72b9ed\" stroke=\"black\" d=\"M510.5,-53C510.5,-53 387.5,-53 387.5,-53 381.5,-53 375.5,-47 375.5,-41 375.5,-41 375.5,-12 375.5,-12 375.5,-6 381.5,0 387.5,0 387.5,0 510.5,0 510.5,0 516.5,0 522.5,-6 522.5,-12 522.5,-12 522.5,-41 522.5,-41 522.5,-47 516.5,-53 510.5,-53\"/>\n<text text-anchor=\"start\" x=\"413.5\" y=\"-37.8\" font-family=\"Helvetica,sans-Serif\" font-size=\"14.00\">gini = 0.356</text>\n<text text-anchor=\"start\" x=\"404\" y=\"-22.8\" font-family=\"Helvetica,sans-Serif\" font-size=\"14.00\">samples = 198</text>\n<text text-anchor=\"start\" x=\"383.5\" y=\"-7.8\" font-family=\"Helvetica,sans-Serif\" font-size=\"14.00\">value = [1, 43, 153, 1]</text>\n</g>\n<!-- 5&#45;&gt;6 -->\n<g id=\"edge6\" class=\"edge\">\n<title>5&#45;&gt;6</title>\n<path fill=\"none\" stroke=\"black\" d=\"M485.41,-88.95C480.26,-80.26 474.7,-70.86 469.5,-62.09\"/>\n<polygon fill=\"black\" stroke=\"black\" points=\"472.36,-60.06 464.25,-53.24 466.34,-63.62 472.36,-60.06\"/>\n</g>\n<!-- 7 -->\n<g id=\"node8\" class=\"node\">\n<title>7</title>\n<path fill=\"#4ba6e7\" stroke=\"black\" d=\"M661,-53C661,-53 553,-53 553,-53 547,-53 541,-47 541,-41 541,-41 541,-12 541,-12 541,-6 547,0 553,0 553,0 661,0 661,0 667,0 673,-6 673,-12 673,-12 673,-41 673,-41 673,-47 667,-53 661,-53\"/>\n<text text-anchor=\"start\" x=\"571.5\" y=\"-37.8\" font-family=\"Helvetica,sans-Serif\" font-size=\"14.00\">gini = 0.154</text>\n<text text-anchor=\"start\" x=\"566\" y=\"-22.8\" font-family=\"Helvetica,sans-Serif\" font-size=\"14.00\">samples = 83</text>\n<text text-anchor=\"start\" x=\"549\" y=\"-7.8\" font-family=\"Helvetica,sans-Serif\" font-size=\"14.00\">value = [0, 7, 76, 0]</text>\n</g>\n<!-- 5&#45;&gt;7 -->\n<g id=\"edge7\" class=\"edge\">\n<title>5&#45;&gt;7</title>\n<path fill=\"none\" stroke=\"black\" d=\"M540.67,-88.95C550.75,-79.62 561.7,-69.47 571.74,-60.16\"/>\n<polygon fill=\"black\" stroke=\"black\" points=\"574.26,-62.6 579.22,-53.24 569.51,-57.47 574.26,-62.6\"/>\n</g>\n<!-- 9 -->\n<g id=\"node10\" class=\"node\">\n<title>9</title>\n<path fill=\"#e9975b\" stroke=\"black\" d=\"M928.5,-157C928.5,-157 775.5,-157 775.5,-157 769.5,-157 763.5,-151 763.5,-145 763.5,-145 763.5,-101 763.5,-101 763.5,-95 769.5,-89 775.5,-89 775.5,-89 928.5,-89 928.5,-89 934.5,-89 940.5,-95 940.5,-101 940.5,-101 940.5,-145 940.5,-145 940.5,-151 934.5,-157 928.5,-157\"/>\n<text text-anchor=\"start\" x=\"799.5\" y=\"-141.8\" font-family=\"Helvetica,sans-Serif\" font-size=\"14.00\">pledged ≤ 1969.5</text>\n<text text-anchor=\"start\" x=\"816.5\" y=\"-126.8\" font-family=\"Helvetica,sans-Serif\" font-size=\"14.00\">gini = 0.262</text>\n<text text-anchor=\"start\" x=\"803.5\" y=\"-111.8\" font-family=\"Helvetica,sans-Serif\" font-size=\"14.00\">samples = 2370</text>\n<text text-anchor=\"start\" x=\"771.5\" y=\"-96.8\" font-family=\"Helvetica,sans-Serif\" font-size=\"14.00\">value = [2013, 302, 28, 27]</text>\n</g>\n<!-- 8&#45;&gt;9 -->\n<g id=\"edge9\" class=\"edge\">\n<title>8&#45;&gt;9</title>\n<path fill=\"none\" stroke=\"black\" d=\"M852,-192.88C852,-184.78 852,-175.98 852,-167.47\"/>\n<polygon fill=\"black\" stroke=\"black\" points=\"855.5,-167.3 852,-157.3 848.5,-167.3 855.5,-167.3\"/>\n</g>\n<!-- 12 -->\n<g id=\"node13\" class=\"node\">\n<title>12</title>\n<path fill=\"#fbede3\" stroke=\"black\" d=\"M1214.5,-157C1214.5,-157 1053.5,-157 1053.5,-157 1047.5,-157 1041.5,-151 1041.5,-145 1041.5,-145 1041.5,-101 1041.5,-101 1041.5,-95 1047.5,-89 1053.5,-89 1053.5,-89 1214.5,-89 1214.5,-89 1220.5,-89 1226.5,-95 1226.5,-101 1226.5,-101 1226.5,-145 1226.5,-145 1226.5,-151 1220.5,-157 1214.5,-157\"/>\n<text text-anchor=\"start\" x=\"1081.5\" y=\"-141.8\" font-family=\"Helvetica,sans-Serif\" font-size=\"14.00\">pledged ≤ 9998.5</text>\n<text text-anchor=\"start\" x=\"1098.5\" y=\"-126.8\" font-family=\"Helvetica,sans-Serif\" font-size=\"14.00\">gini = 0.535</text>\n<text text-anchor=\"start\" x=\"1085.5\" y=\"-111.8\" font-family=\"Helvetica,sans-Serif\" font-size=\"14.00\">samples = 3467</text>\n<text text-anchor=\"start\" x=\"1049.5\" y=\"-96.8\" font-family=\"Helvetica,sans-Serif\" font-size=\"14.00\">value = [1803, 1525, 92, 47]</text>\n</g>\n<!-- 8&#45;&gt;12 -->\n<g id=\"edge12\" class=\"edge\">\n<title>8&#45;&gt;12</title>\n<path fill=\"none\" stroke=\"black\" d=\"M943.56,-192.88C972.02,-182.59 1003.56,-171.18 1032.66,-160.66\"/>\n<polygon fill=\"black\" stroke=\"black\" points=\"1034.21,-163.82 1042.42,-157.12 1031.83,-157.23 1034.21,-163.82\"/>\n</g>\n<!-- 10 -->\n<g id=\"node11\" class=\"node\">\n<title>10</title>\n<path fill=\"#f2c09c\" stroke=\"black\" d=\"M834.5,-53C834.5,-53 703.5,-53 703.5,-53 697.5,-53 691.5,-47 691.5,-41 691.5,-41 691.5,-12 691.5,-12 691.5,-6 697.5,0 703.5,0 703.5,0 834.5,0 834.5,0 840.5,0 846.5,-6 846.5,-12 846.5,-12 846.5,-41 846.5,-41 846.5,-47 840.5,-53 834.5,-53\"/>\n<text text-anchor=\"start\" x=\"733.5\" y=\"-37.8\" font-family=\"Helvetica,sans-Serif\" font-size=\"14.00\">gini = 0.464</text>\n<text text-anchor=\"start\" x=\"724\" y=\"-22.8\" font-family=\"Helvetica,sans-Serif\" font-size=\"14.00\">samples = 674</text>\n<text text-anchor=\"start\" x=\"699.5\" y=\"-7.8\" font-family=\"Helvetica,sans-Serif\" font-size=\"14.00\">value = [444, 215, 7, 8]</text>\n</g>\n<!-- 9&#45;&gt;10 -->\n<g id=\"edge10\" class=\"edge\">\n<title>9&#45;&gt;10</title>\n<path fill=\"none\" stroke=\"black\" d=\"M822.97,-88.95C815.02,-79.89 806.39,-70.07 798.41,-60.99\"/>\n<polygon fill=\"black\" stroke=\"black\" points=\"800.83,-58.44 791.6,-53.24 795.57,-63.06 800.83,-58.44\"/>\n</g>\n<!-- 11 -->\n<g id=\"node12\" class=\"node\">\n<title>11</title>\n<path fill=\"#e78b49\" stroke=\"black\" d=\"M1023,-53C1023,-53 877,-53 877,-53 871,-53 865,-47 865,-41 865,-41 865,-12 865,-12 865,-6 871,0 877,0 877,0 1023,0 1023,0 1029,0 1035,-6 1035,-12 1035,-12 1035,-41 1035,-41 1035,-47 1029,-53 1023,-53\"/>\n<text text-anchor=\"start\" x=\"914.5\" y=\"-37.8\" font-family=\"Helvetica,sans-Serif\" font-size=\"14.00\">gini = 0.141</text>\n<text text-anchor=\"start\" x=\"901.5\" y=\"-22.8\" font-family=\"Helvetica,sans-Serif\" font-size=\"14.00\">samples = 1696</text>\n<text text-anchor=\"start\" x=\"873\" y=\"-7.8\" font-family=\"Helvetica,sans-Serif\" font-size=\"14.00\">value = [1569, 87, 21, 19]</text>\n</g>\n<!-- 9&#45;&gt;11 -->\n<g id=\"edge11\" class=\"edge\">\n<title>9&#45;&gt;11</title>\n<path fill=\"none\" stroke=\"black\" d=\"M886.28,-88.95C895.86,-79.71 906.27,-69.67 915.84,-60.44\"/>\n<polygon fill=\"black\" stroke=\"black\" points=\"918.54,-62.7 923.31,-53.24 913.68,-57.66 918.54,-62.7\"/>\n</g>\n<!-- 13 -->\n<g id=\"node14\" class=\"node\">\n<title>13</title>\n<path fill=\"#52e745\" stroke=\"black\" d=\"M1203,-53C1203,-53 1065,-53 1065,-53 1059,-53 1053,-47 1053,-41 1053,-41 1053,-12 1053,-12 1053,-6 1059,0 1065,0 1065,0 1203,0 1203,0 1209,0 1215,-6 1215,-12 1215,-12 1215,-41 1215,-41 1215,-47 1209,-53 1203,-53\"/>\n<text text-anchor=\"start\" x=\"1098.5\" y=\"-37.8\" font-family=\"Helvetica,sans-Serif\" font-size=\"14.00\">gini = 0.108</text>\n<text text-anchor=\"start\" x=\"1085.5\" y=\"-22.8\" font-family=\"Helvetica,sans-Serif\" font-size=\"14.00\">samples = 1119</text>\n<text text-anchor=\"start\" x=\"1061\" y=\"-7.8\" font-family=\"Helvetica,sans-Serif\" font-size=\"14.00\">value = [0, 1056, 36, 27]</text>\n</g>\n<!-- 12&#45;&gt;13 -->\n<g id=\"edge13\" class=\"edge\">\n<title>12&#45;&gt;13</title>\n<path fill=\"none\" stroke=\"black\" d=\"M1134,-88.95C1134,-80.72 1134,-71.85 1134,-63.48\"/>\n<polygon fill=\"black\" stroke=\"black\" points=\"1137.5,-63.24 1134,-53.24 1130.5,-63.24 1137.5,-63.24\"/>\n</g>\n<!-- 14 -->\n<g id=\"node15\" class=\"node\">\n<title>14</title>\n<path fill=\"#eda672\" stroke=\"black\" d=\"M1398.5,-53C1398.5,-53 1245.5,-53 1245.5,-53 1239.5,-53 1233.5,-47 1233.5,-41 1233.5,-41 1233.5,-12 1233.5,-12 1233.5,-6 1239.5,0 1245.5,0 1245.5,0 1398.5,0 1398.5,0 1404.5,0 1410.5,-6 1410.5,-12 1410.5,-12 1410.5,-41 1410.5,-41 1410.5,-47 1404.5,-53 1398.5,-53\"/>\n<text text-anchor=\"start\" x=\"1290\" y=\"-37.8\" font-family=\"Helvetica,sans-Serif\" font-size=\"14.00\">gini = 0.37</text>\n<text text-anchor=\"start\" x=\"1273.5\" y=\"-22.8\" font-family=\"Helvetica,sans-Serif\" font-size=\"14.00\">samples = 2348</text>\n<text text-anchor=\"start\" x=\"1241.5\" y=\"-7.8\" font-family=\"Helvetica,sans-Serif\" font-size=\"14.00\">value = [1803, 469, 56, 20]</text>\n</g>\n<!-- 12&#45;&gt;14 -->\n<g id=\"edge14\" class=\"edge\">\n<title>12&#45;&gt;14</title>\n<path fill=\"none\" stroke=\"black\" d=\"M1199.75,-88.95C1220.05,-78.75 1242.28,-67.57 1262.15,-57.59\"/>\n<polygon fill=\"black\" stroke=\"black\" points=\"1263.73,-60.71 1271.1,-53.09 1260.59,-54.45 1263.73,-60.71\"/>\n</g>\n</g>\n</svg>\n",
            "text/plain": [
              "<graphviz.sources.Source at 0x7f13eeae9f00>"
            ]
          },
          "metadata": {},
          "execution_count": 81
        }
      ],
      "source": [
        "import graphviz\n",
        "# Create the Graphviz representation of the decision tree\n",
        "dot_data = export_graphviz(dtc_3, out_file=None, \n",
        "                           feature_names=X_new.columns.values, \n",
        "                           filled=True, rounded=True,  \n",
        "                           special_characters=True) \n",
        "\n",
        "# Render the Graphviz representation as a PNG image\n",
        "graph = graphviz.Source(dot_data)\n",
        "graph.format = 'png'\n",
        "graph.render('decision_tree')\n",
        "\n",
        "# Display the decision tree in Jupyter Notebook\n",
        "graph"
      ]
    },
    {
      "cell_type": "code",
      "execution_count": 82,
      "id": "su0M_DFAB58c",
      "metadata": {
        "colab": {
          "base_uri": "https://localhost:8080/"
        },
        "id": "su0M_DFAB58c",
        "outputId": "62ccf5da-cb4a-4ebe-c7f7-d8ab7c5d34ea"
      },
      "outputs": [
        {
          "output_type": "stream",
          "name": "stdout",
          "text": [
            "Accuracy: 0.884446074834923\n"
          ]
        }
      ],
      "source": [
        "accuracy_dtc = accuracy_score(y_test, y_pred)\n",
        "print('Accuracy:', accuracy_dtc)"
      ]
    },
    {
      "cell_type": "markdown",
      "id": "MOZQ5I4kvfKc",
      "metadata": {
        "id": "MOZQ5I4kvfKc"
      },
      "source": [
        "## **3. KNN**"
      ]
    },
    {
      "cell_type": "code",
      "execution_count": 64,
      "id": "A-3sO9lYwQyf",
      "metadata": {
        "id": "A-3sO9lYwQyf"
      },
      "outputs": [],
      "source": [
        "from sklearn.neighbors import KNeighborsClassifier\n",
        "knn = KNeighborsClassifier(n_neighbors=5)\n",
        "\n",
        "# train the classifier on the training set\n",
        "knn.fit(X_train, y_train)\n",
        "\n",
        "# make predictions on the testing set\n",
        "y_pred = knn.predict(X_test)"
      ]
    },
    {
      "cell_type": "code",
      "execution_count": 65,
      "id": "WAEr2e6KvoJc",
      "metadata": {
        "colab": {
          "base_uri": "https://localhost:8080/"
        },
        "id": "WAEr2e6KvoJc",
        "outputId": "a15ddcff-ae05-4cd5-aa2e-6da44cf182cf"
      },
      "outputs": [
        {
          "output_type": "stream",
          "name": "stdout",
          "text": [
            "              precision    recall  f1-score   support\n",
            "\n",
            "         1.0       0.98      1.00      0.99      1826\n",
            "         2.0       0.95      1.00      0.97      3414\n",
            "         3.0       0.90      0.06      0.11       147\n",
            "         4.0       0.00      0.00      0.00        65\n",
            "\n",
            "    accuracy                           0.96      5452\n",
            "   macro avg       0.71      0.51      0.52      5452\n",
            "weighted avg       0.95      0.96      0.94      5452\n",
            "\n"
          ]
        }
      ],
      "source": [
        "print(classification_report(y_test, y_pred))"
      ]
    },
    {
      "cell_type": "code",
      "execution_count": 66,
      "id": "IkpB4s15B9Zi",
      "metadata": {
        "colab": {
          "base_uri": "https://localhost:8080/"
        },
        "id": "IkpB4s15B9Zi",
        "outputId": "8018142d-d7f8-44ca-9576-c92100eea0e2"
      },
      "outputs": [
        {
          "output_type": "stream",
          "name": "stdout",
          "text": [
            "Accuracy: 0.9607483492296405\n"
          ]
        }
      ],
      "source": [
        "accuracy_knn = accuracy_score(y_test, y_pred)\n",
        "print('Accuracy:', accuracy_knn)"
      ]
    },
    {
      "cell_type": "markdown",
      "id": "l8q59OsyuoPE",
      "metadata": {
        "id": "l8q59OsyuoPE"
      },
      "source": [
        "# **4. Random Forest**"
      ]
    },
    {
      "cell_type": "code",
      "execution_count": 67,
      "id": "i6X7ixXYyjUK",
      "metadata": {
        "id": "i6X7ixXYyjUK"
      },
      "outputs": [],
      "source": [
        "from sklearn.ensemble import RandomForestClassifier\n",
        "rfc = RandomForestClassifier(n_estimators=100, random_state=42)\n",
        "\n",
        "rfc.fit(X_train, y_train)\n",
        "\n",
        "# make predictions on the testing set\n",
        "y_pred = rfc.predict(X_test)\n",
        "\n"
      ]
    },
    {
      "cell_type": "code",
      "execution_count": 68,
      "id": "KqlaW_OTvG3N",
      "metadata": {
        "colab": {
          "base_uri": "https://localhost:8080/"
        },
        "id": "KqlaW_OTvG3N",
        "outputId": "0d874fdc-a800-4099-d1db-27a3a5c016c3"
      },
      "outputs": [
        {
          "output_type": "stream",
          "name": "stdout",
          "text": [
            "              precision    recall  f1-score   support\n",
            "\n",
            "         1.0       0.98      0.99      0.99      1826\n",
            "         2.0       0.98      0.99      0.98      3414\n",
            "         3.0       0.83      0.88      0.85       147\n",
            "         4.0       0.00      0.00      0.00        65\n",
            "\n",
            "    accuracy                           0.97      5452\n",
            "   macro avg       0.70      0.71      0.71      5452\n",
            "weighted avg       0.96      0.97      0.97      5452\n",
            "\n"
          ]
        }
      ],
      "source": [
        "print(classification_report(y_test, y_pred))"
      ]
    },
    {
      "cell_type": "code",
      "execution_count": 69,
      "id": "0K5SR8HYvT6A",
      "metadata": {
        "colab": {
          "base_uri": "https://localhost:8080/"
        },
        "id": "0K5SR8HYvT6A",
        "outputId": "32d6926e-5346-4a88-bee5-e45060779483"
      },
      "outputs": [
        {
          "output_type": "execute_result",
          "data": {
            "text/plain": [
              "array([[1816,    2,    8,    0],\n",
              "       [  22, 3370,   18,    4],\n",
              "       [   4,   14,  129,    0],\n",
              "       [  15,   50,    0,    0]])"
            ]
          },
          "metadata": {},
          "execution_count": 69
        }
      ],
      "source": [
        "# import the metrics class\n",
        "from sklearn import metrics\n",
        "\n",
        "cnf_matrix = metrics.confusion_matrix(y_test, y_pred)\n",
        "cnf_matrix"
      ]
    },
    {
      "cell_type": "code",
      "execution_count": 70,
      "id": "6wHPabqivPpm",
      "metadata": {
        "colab": {
          "base_uri": "https://localhost:8080/"
        },
        "id": "6wHPabqivPpm",
        "outputId": "4a9cb2b9-017f-4f62-e719-e2ac50b589a4"
      },
      "outputs": [
        {
          "output_type": "stream",
          "name": "stdout",
          "text": [
            "              precision    recall  f1-score   support\n",
            "\n",
            "         1.0       0.98      0.99      0.99      1826\n",
            "         2.0       0.98      0.99      0.98      3414\n",
            "         3.0       0.83      0.88      0.85       147\n",
            "         4.0       0.00      0.00      0.00        65\n",
            "\n",
            "    accuracy                           0.97      5452\n",
            "   macro avg       0.70      0.71      0.71      5452\n",
            "weighted avg       0.96      0.97      0.97      5452\n",
            "\n"
          ]
        }
      ],
      "source": [
        "from sklearn.metrics import classification_report\n",
        "from sklearn.metrics import accuracy_score\n",
        "print(classification_report(y_test, y_pred))"
      ]
    },
    {
      "cell_type": "code",
      "execution_count": 71,
      "id": "1tMp6f3nCBQ8",
      "metadata": {
        "colab": {
          "base_uri": "https://localhost:8080/"
        },
        "id": "1tMp6f3nCBQ8",
        "outputId": "b7381c43-a3c8-4476-fd04-02128b3d9167"
      },
      "outputs": [
        {
          "output_type": "stream",
          "name": "stdout",
          "text": [
            "Accuracy: 0.9748716067498165\n"
          ]
        }
      ],
      "source": [
        "accuracy_rf = accuracy_score(y_test, y_pred)\n",
        "print('Accuracy:', accuracy_rf)"
      ]
    },
    {
      "cell_type": "markdown",
      "id": "hcSrXFcfQ_fr",
      "metadata": {
        "id": "hcSrXFcfQ_fr"
      },
      "source": [
        "# **5. SVM**"
      ]
    },
    {
      "cell_type": "code",
      "execution_count": 72,
      "id": "e3YwyngAQ3xu",
      "metadata": {
        "id": "e3YwyngAQ3xu"
      },
      "outputs": [],
      "source": [
        "from sklearn.svm import SVC\n",
        "# Initialize the SVM model\n",
        "svc = SVC(kernel='rbf')\n",
        "\n",
        "# Train the SVM model\n",
        "svc.fit(X_train, y_train)\n",
        "\n",
        "# Predict the labels of the test data\n",
        "y_pred = svc.predict(X_test)\n"
      ]
    },
    {
      "cell_type": "code",
      "execution_count": 73,
      "id": "EWScH5mGRL69",
      "metadata": {
        "id": "EWScH5mGRL69",
        "colab": {
          "base_uri": "https://localhost:8080/"
        },
        "outputId": "c62e256b-af7b-4882-8d8d-62d6f01dd1d6"
      },
      "outputs": [
        {
          "output_type": "stream",
          "name": "stdout",
          "text": [
            "              precision    recall  f1-score   support\n",
            "\n",
            "         1.0       0.94      0.32      0.47      1826\n",
            "         2.0       0.70      0.99      0.82      3414\n",
            "         3.0       0.00      0.00      0.00       147\n",
            "         4.0       0.00      0.00      0.00        65\n",
            "\n",
            "    accuracy                           0.73      5452\n",
            "   macro avg       0.41      0.33      0.32      5452\n",
            "weighted avg       0.75      0.73      0.67      5452\n",
            "\n"
          ]
        }
      ],
      "source": [
        "from sklearn.metrics import classification_report\n",
        "print(classification_report(y_test, y_pred))"
      ]
    },
    {
      "cell_type": "code",
      "execution_count": 74,
      "id": "xQAvFGk2RNo4",
      "metadata": {
        "id": "xQAvFGk2RNo4",
        "colab": {
          "base_uri": "https://localhost:8080/"
        },
        "outputId": "0f8ba7dd-e63c-4581-f532-9c811bce7cef"
      },
      "outputs": [
        {
          "output_type": "stream",
          "name": "stdout",
          "text": [
            "Accuracy: 0.727072633895818\n"
          ]
        }
      ],
      "source": [
        "accuracy_svc = accuracy_score(y_test, y_pred)\n",
        "print('Accuracy:', accuracy_svc)"
      ]
    },
    {
      "cell_type": "markdown",
      "id": "JCx3r8cmCPr4",
      "metadata": {
        "id": "JCx3r8cmCPr4"
      },
      "source": [
        "# **Accuracies before Cross validation**"
      ]
    },
    {
      "cell_type": "code",
      "execution_count": 77,
      "id": "GbNKNksNCN2a",
      "metadata": {
        "id": "GbNKNksNCN2a",
        "colab": {
          "base_uri": "https://localhost:8080/",
          "height": 481
        },
        "outputId": "fc49440b-aeaa-4a51-ad32-e193c1a19834"
      },
      "outputs": [
        {
          "output_type": "display_data",
          "data": {
            "text/plain": [
              "<Figure size 640x480 with 1 Axes>"
            ],
            "image/png": "[encoded data removed]"
          },
          "metadata": {}
        }
      ],
      "source": [
        "accuracy = [accuracy_log, accuracy_dtc, accuracy_knn, accuracy_rf, accuracy_svc]\n",
        "labels = [\"Logistic Regre\", \"Decision Tree\",\"KNN\", \"Random Forest\", \"SVM\"]\n",
        "plt.plot(labels, accuracy)\n",
        "plt.xlabel('Models')\n",
        "plt.ylabel('Accuracy')\n",
        "plt.title('Model Accuracies')\n",
        "\n",
        "# for i, v in enumerate(accuracy):\n",
        "#     plt.text(i, v+0.01, str(v), ha='center')\n",
        "\n",
        "plt.show()"
      ]
    },
    {
      "cell_type": "markdown",
      "id": "zHXwmQSKxcmT",
      "metadata": {
        "id": "zHXwmQSKxcmT"
      },
      "source": [
        "# **Using Cross Validation**"
      ]
    },
    {
      "cell_type": "code",
      "execution_count": 76,
      "id": "f71K3nC6w0vy",
      "metadata": {
        "id": "f71K3nC6w0vy",
        "colab": {
          "base_uri": "https://localhost:8080/",
          "height": 637
        },
        "outputId": "91f7fa37-addf-4aef-ee58-8db47cadcb73"
      },
      "outputs": [
        {
          "output_type": "stream",
          "name": "stdout",
          "text": [
            "Random Forest Accuracy: 0.97 (+/- 0.00)\n",
            "Logistic Accuracy: 0.91 (+/- 0.05)\n",
            "K-Nearest Neighbors Accuracy: 0.96 (+/- 0.00)\n",
            "Decision Tree Accuracy: 0.86 (+/- 0.03)\n",
            "SVM Accuracy: 0.72 (+/- 0.05)\n"
          ]
        },
        {
          "output_type": "display_data",
          "data": {
            "text/plain": [
              "<Figure size 1000x600 with 1 Axes>"
            ],
            "image/png": "[encoded data removed]"
          },
          "metadata": {}
        }
      ],
      "source": [
        "# create a dictionary of classifiers\n",
        "from sklearn.model_selection import cross_val_score\n",
        "\n",
        "classifiers = {'Random Forest': RandomForestClassifier(n_estimators=100),\n",
        "               'Logistic': LogisticRegression(random_state=16),\n",
        "               'K-Nearest Neighbors': KNeighborsClassifier(n_neighbors=2),\n",
        "               'Decision Tree': DecisionTreeClassifier(max_depth = 3),\n",
        "              'SVM' : SVC(kernel = 'rbf')}\n",
        "\n",
        "# perform cross-validation on each classifier\n",
        "scores = {}\n",
        "for clf_name, clf in classifiers.items():\n",
        "    cv_scores = cross_val_score(clf, X_new, y_new, cv=5)\n",
        "    scores[clf_name] = cv_scores\n",
        "    print(f\"{clf_name} Accuracy: {np.mean(cv_scores):.2f} (+/- {np.std(cv_scores):.2f})\")\n",
        "\n",
        "# plot the results\n",
        "fig, ax = plt.subplots(figsize=(10, 6))\n",
        "ax.boxplot(scores.values())\n",
        "ax.set_xticklabels(scores.keys())\n",
        "ax.set_title('Classifier Comparison')\n",
        "ax.set_ylabel('Accuracy')\n",
        "plt.show()"
      ]
    }
  ],
  "metadata": {
    "colab": {
      "provenance": []
    },
    "kernelspec": {
      "display_name": "Python 3 (ipykernel)",
      "language": "python",
      "name": "python3"
    },
    "language_info": {
      "codemirror_mode": {
        "name": "ipython",
        "version": 3
      },
      "file_extension": ".py",
      "mimetype": "text/x-python",
      "name": "python",
      "nbconvert_exporter": "python",
      "pygments_lexer": "ipython3",
      "version": "3.9.13"
    },
    "papermill": {
      "default_parameters": {},
      "duration": 163.968825,
      "end_time": "2021-05-15T19:07:40.296704",
      "environment_variables": {},
      "exception": null,
      "input_path": "__notebook__.ipynb",
      "output_path": "__notebook__.ipynb",
      "parameters": {},
      "start_time": "2021-05-15T19:04:56.327879",
      "version": "2.3.3"
    }
  },
  "nbformat": 4,
  "nbformat_minor": 5
}